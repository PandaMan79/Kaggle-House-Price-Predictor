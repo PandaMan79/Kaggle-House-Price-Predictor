{
 "cells": [
  {
   "cell_type": "markdown",
   "metadata": {},
   "source": [
    "# Data Ingestion, Cleaning & Transformation"
   ]
  },
  {
   "cell_type": "code",
   "execution_count": 1,
   "metadata": {},
   "outputs": [],
   "source": [
    "# Import the necessary libraries\n",
    "import os\n",
    "import numpy as np\n",
    "import pandas as pd\n",
    "import matplotlib.pyplot as plt\n",
    "import seaborn as sns"
   ]
  },
  {
   "cell_type": "code",
   "execution_count": 2,
   "metadata": {},
   "outputs": [],
   "source": [
    "# Create the input folder for the raw data using os\n",
    "os.makedirs('raw_data', exist_ok=True)\n"
   ]
  },
  {
   "cell_type": "code",
   "execution_count": 3,
   "metadata": {},
   "outputs": [
    {
     "data": {
      "text/plain": [
       "(1460, 81)"
      ]
     },
     "execution_count": 3,
     "metadata": {},
     "output_type": "execute_result"
    }
   ],
   "source": [
    "# Ingest the data\n",
    "df = pd.read_csv('raw_data/train.csv')\n",
    "\n",
    "# View the shape of the data\n",
    "df.shape"
   ]
  },
  {
   "cell_type": "code",
   "execution_count": 4,
   "metadata": {},
   "outputs": [
    {
     "name": "stdout",
     "output_type": "stream",
     "text": [
      "<class 'pandas.core.frame.DataFrame'>\n",
      "RangeIndex: 1460 entries, 0 to 1459\n",
      "Data columns (total 81 columns):\n",
      " #   Column         Non-Null Count  Dtype  \n",
      "---  ------         --------------  -----  \n",
      " 0   Id             1460 non-null   int64  \n",
      " 1   MSSubClass     1460 non-null   int64  \n",
      " 2   MSZoning       1460 non-null   object \n",
      " 3   LotFrontage    1201 non-null   float64\n",
      " 4   LotArea        1460 non-null   int64  \n",
      " 5   Street         1460 non-null   object \n",
      " 6   Alley          91 non-null     object \n",
      " 7   LotShape       1460 non-null   object \n",
      " 8   LandContour    1460 non-null   object \n",
      " 9   Utilities      1460 non-null   object \n",
      " 10  LotConfig      1460 non-null   object \n",
      " 11  LandSlope      1460 non-null   object \n",
      " 12  Neighborhood   1460 non-null   object \n",
      " 13  Condition1     1460 non-null   object \n",
      " 14  Condition2     1460 non-null   object \n",
      " 15  BldgType       1460 non-null   object \n",
      " 16  HouseStyle     1460 non-null   object \n",
      " 17  OverallQual    1460 non-null   int64  \n",
      " 18  OverallCond    1460 non-null   int64  \n",
      " 19  YearBuilt      1460 non-null   int64  \n",
      " 20  YearRemodAdd   1460 non-null   int64  \n",
      " 21  RoofStyle      1460 non-null   object \n",
      " 22  RoofMatl       1460 non-null   object \n",
      " 23  Exterior1st    1460 non-null   object \n",
      " 24  Exterior2nd    1460 non-null   object \n",
      " 25  MasVnrType     588 non-null    object \n",
      " 26  MasVnrArea     1452 non-null   float64\n",
      " 27  ExterQual      1460 non-null   object \n",
      " 28  ExterCond      1460 non-null   object \n",
      " 29  Foundation     1460 non-null   object \n",
      " 30  BsmtQual       1423 non-null   object \n",
      " 31  BsmtCond       1423 non-null   object \n",
      " 32  BsmtExposure   1422 non-null   object \n",
      " 33  BsmtFinType1   1423 non-null   object \n",
      " 34  BsmtFinSF1     1460 non-null   int64  \n",
      " 35  BsmtFinType2   1422 non-null   object \n",
      " 36  BsmtFinSF2     1460 non-null   int64  \n",
      " 37  BsmtUnfSF      1460 non-null   int64  \n",
      " 38  TotalBsmtSF    1460 non-null   int64  \n",
      " 39  Heating        1460 non-null   object \n",
      " 40  HeatingQC      1460 non-null   object \n",
      " 41  CentralAir     1460 non-null   object \n",
      " 42  Electrical     1459 non-null   object \n",
      " 43  1stFlrSF       1460 non-null   int64  \n",
      " 44  2ndFlrSF       1460 non-null   int64  \n",
      " 45  LowQualFinSF   1460 non-null   int64  \n",
      " 46  GrLivArea      1460 non-null   int64  \n",
      " 47  BsmtFullBath   1460 non-null   int64  \n",
      " 48  BsmtHalfBath   1460 non-null   int64  \n",
      " 49  FullBath       1460 non-null   int64  \n",
      " 50  HalfBath       1460 non-null   int64  \n",
      " 51  BedroomAbvGr   1460 non-null   int64  \n",
      " 52  KitchenAbvGr   1460 non-null   int64  \n",
      " 53  KitchenQual    1460 non-null   object \n",
      " 54  TotRmsAbvGrd   1460 non-null   int64  \n",
      " 55  Functional     1460 non-null   object \n",
      " 56  Fireplaces     1460 non-null   int64  \n",
      " 57  FireplaceQu    770 non-null    object \n",
      " 58  GarageType     1379 non-null   object \n",
      " 59  GarageYrBlt    1379 non-null   float64\n",
      " 60  GarageFinish   1379 non-null   object \n",
      " 61  GarageCars     1460 non-null   int64  \n",
      " 62  GarageArea     1460 non-null   int64  \n",
      " 63  GarageQual     1379 non-null   object \n",
      " 64  GarageCond     1379 non-null   object \n",
      " 65  PavedDrive     1460 non-null   object \n",
      " 66  WoodDeckSF     1460 non-null   int64  \n",
      " 67  OpenPorchSF    1460 non-null   int64  \n",
      " 68  EnclosedPorch  1460 non-null   int64  \n",
      " 69  3SsnPorch      1460 non-null   int64  \n",
      " 70  ScreenPorch    1460 non-null   int64  \n",
      " 71  PoolArea       1460 non-null   int64  \n",
      " 72  PoolQC         7 non-null      object \n",
      " 73  Fence          281 non-null    object \n",
      " 74  MiscFeature    54 non-null     object \n",
      " 75  MiscVal        1460 non-null   int64  \n",
      " 76  MoSold         1460 non-null   int64  \n",
      " 77  YrSold         1460 non-null   int64  \n",
      " 78  SaleType       1460 non-null   object \n",
      " 79  SaleCondition  1460 non-null   object \n",
      " 80  SalePrice      1460 non-null   int64  \n",
      "dtypes: float64(3), int64(35), object(43)\n",
      "memory usage: 924.0+ KB\n"
     ]
    }
   ],
   "source": [
    "# Review the information in the data\n",
    "df.info()"
   ]
  },
  {
   "cell_type": "code",
   "execution_count": 5,
   "metadata": {},
   "outputs": [
    {
     "name": "stdout",
     "output_type": "stream",
     "text": [
      "              Missing Values Data Type\n",
      "LotFrontage              259   float64\n",
      "Alley                   1369    object\n",
      "MasVnrType               872    object\n",
      "MasVnrArea                 8   float64\n",
      "BsmtQual                  37    object\n",
      "BsmtCond                  37    object\n",
      "BsmtExposure              38    object\n",
      "BsmtFinType1              37    object\n",
      "BsmtFinType2              38    object\n",
      "Electrical                 1    object\n",
      "FireplaceQu              690    object\n",
      "GarageType                81    object\n",
      "GarageYrBlt               81   float64\n",
      "GarageFinish              81    object\n",
      "GarageQual                81    object\n",
      "GarageCond                81    object\n",
      "PoolQC                  1453    object\n",
      "Fence                   1179    object\n",
      "MiscFeature             1406    object\n"
     ]
    }
   ],
   "source": [
    "# Show the features in the data that have missing values and the number of missing values\n",
    "missing_values = df.isnull().sum()\n",
    "missing_values = missing_values[missing_values > 0]\n",
    "\n",
    "# Get the data types of the features with missing values\n",
    "missing_values_data_types = df.dtypes[missing_values.index]\n",
    "\n",
    "# Combine the missing values and data types into a single DataFrame\n",
    "missing_values_info = pd.DataFrame({'Missing Values': missing_values, 'Data Type': missing_values_data_types})\n",
    "\n",
    "print(missing_values_info)\n"
   ]
  },
  {
   "cell_type": "code",
   "execution_count": 6,
   "metadata": {},
   "outputs": [
    {
     "name": "stdout",
     "output_type": "stream",
     "text": [
      "The distribution of the LotFrontage feature is skewed by 2.16\n",
      "The distribution of the MasVnrArea feature is skewed by 2.67\n",
      "The distribution of the GarageYrBlt feature is skewed by -0.65\n"
     ]
    }
   ],
   "source": [
    "# List of columns to analyze\n",
    "columns = ['LotFrontage', 'MasVnrArea', 'GarageYrBlt']\n",
    "\n",
    "# Loop through each column and calculate skewness\n",
    "for column in columns:\n",
    "    # Drop missing values and calculate skewness\n",
    "    skewness = df[column].dropna().skew()\n",
    "    # Print the result\n",
    "    print(f'The distribution of the {column} feature is skewed by {skewness:.2f}')\n"
   ]
  },
  {
   "cell_type": "markdown",
   "metadata": {},
   "source": [
    "As the distribution of the three numeric variables with missing values are skewed, those values will be replaced with the median value, rather than then mean value."
   ]
  },
  {
   "cell_type": "code",
   "execution_count": 7,
   "metadata": {},
   "outputs": [],
   "source": [
    "# List of columns to fill missing values\n",
    "columns = ['MasVnrArea', 'GarageYrBlt', 'LotFrontage']\n",
    "\n",
    "# Loop through each column and fill missing values with the median\n",
    "for column in columns:\n",
    "    df[column] = df[column].fillna(df[column].median())\n"
   ]
  },
  {
   "cell_type": "code",
   "execution_count": 8,
   "metadata": {},
   "outputs": [
    {
     "name": "stdout",
     "output_type": "stream",
     "text": [
      "              Missing Values Data Type\n",
      "Alley                   1369    object\n",
      "MasVnrType               872    object\n",
      "BsmtQual                  37    object\n",
      "BsmtCond                  37    object\n",
      "BsmtExposure              38    object\n",
      "BsmtFinType1              37    object\n",
      "BsmtFinType2              38    object\n",
      "Electrical                 1    object\n",
      "FireplaceQu              690    object\n",
      "GarageType                81    object\n",
      "GarageFinish              81    object\n",
      "GarageQual                81    object\n",
      "GarageCond                81    object\n",
      "PoolQC                  1453    object\n",
      "Fence                   1179    object\n",
      "MiscFeature             1406    object\n"
     ]
    }
   ],
   "source": [
    "# Show the features in the data that have missing values and the number of missing values\n",
    "missing_values = df.isnull().sum()\n",
    "missing_values = missing_values[missing_values > 0]\n",
    "\n",
    "# Get the data types of the features with missing values\n",
    "missing_values_data_types = df.dtypes[missing_values.index]\n",
    "\n",
    "# Combine the missing values and data types into a single DataFrame\n",
    "missing_values_info = pd.DataFrame({'Missing Values': missing_values, 'Data Type': missing_values_data_types})\n",
    "\n",
    "print(missing_values_info)"
   ]
  },
  {
   "cell_type": "code",
   "execution_count": 9,
   "metadata": {},
   "outputs": [],
   "source": [
    "# Define the columns to replace missing values with 'n/a'\n",
    "columns_to_replace = [\n",
    "    'LotFrontage', 'Alley', 'MasVnrType', 'MasVnrArea', 'BsmtQual', 'BsmtCond', \n",
    "    'BsmtExposure', 'BsmtFinType1', 'BsmtFinType2', 'Electrical', 'FireplaceQu', \n",
    "    'GarageType', 'GarageYrBlt', 'GarageFinish', 'GarageQual', 'GarageCond', \n",
    "    'PoolQC', 'Fence', 'MiscFeature'\n",
    "]\n",
    "\n",
    "# Replace NaN values with 'n/a'\n",
    "df[columns_to_replace] = df[columns_to_replace].fillna('Not Applicable')\n"
   ]
  },
  {
   "cell_type": "code",
   "execution_count": 10,
   "metadata": {},
   "outputs": [],
   "source": [
    "# Create a feature called InternalSF\n",
    "df['InternalSF'] = df['1stFlrSF'] + df['2ndFlrSF'] + df['TotalBsmtSF']"
   ]
  },
  {
   "cell_type": "code",
   "execution_count": 11,
   "metadata": {},
   "outputs": [],
   "source": [
    "# Create PorchDeckSF feature\n",
    "df['PorchDeckSF'] = df['OpenPorchSF'] + df['EnclosedPorch'] + df['3SsnPorch'] + df['ScreenPorch'] + df['WoodDeckSF']"
   ]
  },
  {
   "cell_type": "code",
   "execution_count": 12,
   "metadata": {},
   "outputs": [],
   "source": [
    "# Step 1: Compute the median SalePrice per Neighborhood\n",
    "neighborhood_prices = df.groupby('Neighborhood')['SalePrice'].median()\n",
    "\n",
    "# Step 2: Calculate percentiles based on SalePrice\n",
    "percentiles = neighborhood_prices.rank(pct=True)\n",
    "\n",
    "# Step 3: Assign bucket levels\n",
    "def assign_bucket(pct):\n",
    "    if pct < 0.25:\n",
    "        return 'Level_1'\n",
    "    elif pct < 0.50:\n",
    "        return 'Level_2'\n",
    "    elif pct < 0.75:\n",
    "        return 'Level_3'\n",
    "    else:\n",
    "        return 'Level_4'\n",
    "\n",
    "# Step 4: Create a mapping dictionary\n",
    "neighborhood_price_buckets = percentiles.apply(assign_bucket)\n",
    "\n",
    "# Step 5: Merge back into the original DataFrame\n",
    "df['Neighborhood_Price_Bucket'] = df['Neighborhood'].map(neighborhood_price_buckets)"
   ]
  },
  {
   "cell_type": "code",
   "execution_count": 13,
   "metadata": {},
   "outputs": [
    {
     "name": "stdout",
     "output_type": "stream",
     "text": [
      "  Neighborhood_Price_Bucket                                       Neighborhood\n",
      "0                   Level_1  [OldTown, BrkSide, IDOTRR, MeadowV, Edwards, B...\n",
      "1                   Level_2  [Mitchel, Sawyer, NAmes, NPkVill, SWISU, Blueste]\n",
      "2                   Level_3  [CollgCr, NWAmes, SawyerW, Gilbert, ClearCr, B...\n",
      "3                   Level_4  [Veenker, Crawfor, NoRidge, Somerst, NridgHt, ...\n"
     ]
    }
   ],
   "source": [
    "# To be used when creating the data for the test\n",
    "# Convert to DataFrame for better readability\n",
    "neighborhoods_per_level_df = (\n",
    "    df[['Neighborhood', 'Neighborhood_Price_Bucket']]\n",
    "    .drop_duplicates()\n",
    "    .groupby('Neighborhood_Price_Bucket')['Neighborhood']\n",
    "    .apply(list)\n",
    "    .reset_index()\n",
    ")\n",
    "\n",
    "# Display the result\n",
    "print(neighborhoods_per_level_df)"
   ]
  },
  {
   "cell_type": "code",
   "execution_count": 14,
   "metadata": {},
   "outputs": [],
   "source": [
    "# Make a copy of the data\n",
    "df_copy = df.copy()"
   ]
  },
  {
   "cell_type": "code",
   "execution_count": 15,
   "metadata": {},
   "outputs": [],
   "source": [
    "# Create a subfolder called outputs using os module\n",
    "os.makedirs('outputs', exist_ok=True)\n"
   ]
  },
  {
   "cell_type": "code",
   "execution_count": 16,
   "metadata": {},
   "outputs": [],
   "source": [
    "# Create a cv of the cleaned data\n",
    "df_copy.to_csv('outputs/train_cleaned.csv', index=False)"
   ]
  }
 ],
 "metadata": {
  "kernelspec": {
   "display_name": "Python 3",
   "language": "python",
   "name": "python3"
  },
  "language_info": {
   "codemirror_mode": {
    "name": "ipython",
    "version": 3
   },
   "file_extension": ".py",
   "mimetype": "text/x-python",
   "name": "python",
   "nbconvert_exporter": "python",
   "pygments_lexer": "ipython3",
   "version": "3.12.4"
  }
 },
 "nbformat": 4,
 "nbformat_minor": 2
}